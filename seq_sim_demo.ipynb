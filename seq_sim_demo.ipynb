{
 "cells": [
  {
   "cell_type": "markdown",
   "metadata": {},
   "source": [
    "# seq_sim Demonstration\n",
    "\n",
    "This notebook demonstrates how to use **seq_sim.py** inside a Jupyter environment.\n",
    "\n",
    "You can either execute the whole script via a shell command (Option 1) or import it as a module and call `main()` programmatically (Option 2). Feel free to tweak the parameters in the cells below."
   ]
  },
  {
   "cell_type": "code",
   "execution_count": null,
   "metadata": {},
   "outputs": [],
   "source": [
    "# Option 1 — run the pipeline via shell\n",
    "# The exclamation mark executes `seq_sim.py` in a sub-process using its CLI arguments.\n",
    "!python seq_sim.py \\\n+    --model_type both \\\n+    --seq_len 50 \\\n+    --num_blocks 3 \\\n+    --num_samples 2000 \\\n+    --epochs 5  # keep epochs small for a quick demo"
   ]
  },
  {
   "cell_type": "code",
   "execution_count": null,
   "metadata": {},
   "outputs": [],
   "source": [
    "# Option 2 — import as a module and call `main()` directly\n",
    "# This leaves everything inside the current Python kernel so you can inspect variables, plots, etc.\n",
    "import argparse, importlib, sys\n",
    "\n",
    "# Reload when the cell is re-run to pick up code changes\n",
    "if 'seq_sim' in sys.modules:\n",
    "    importlib.reload(sys.modules['seq_sim'])\n",
    "else:\n",
    "    import seq_sim\n",
    "\n",
    "params = argparse.Namespace(\n",
    "    model_type='classifier',  # or 'generator' / 'both'\n",
    "    seq_len=30,\n",
    "    num_blocks=2,\n",
    "    read_offset_limit=5,\n",
    "    num_samples=1000,\n",
    "    classifier_batch_size=32,\n",
    "    generator_batch_size=32,\n",
    "    epochs=3,\n",
    "    lr=1e-3,\n",
    "    weight_decay=1e-5,\n",
    "    patience=5,\n",
    "    clip_value=1.0,\n",
    "    embedding_dim=16,\n",
    "    hidden_size=64,\n",
    "    dropout=0.4,\n",
    "    num_workers=0,\n",
    "    loss_type='bce',\n",
    "    focal_alpha=0.75,\n",
    "    focal_gamma=2.0,\n",
    "    bidirectional=False,\n",
    "    balanced_data=False,\n",
    ")\n",
    "\n",
    "seq_sim.main(params)"
   ]
  }
 ],
 "metadata": {
  "kernelspec": {
   "display_name": "Python 3",
   "language": "python",
   "name": "python3"
  },
  "language_info": {
   "name": "python",
   "version": "3.10"
  }
 },
 "nbformat": 4,
 "nbformat_minor": 5
}

